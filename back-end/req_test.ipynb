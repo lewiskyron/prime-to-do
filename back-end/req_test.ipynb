{
 "cells": [
  {
   "cell_type": "code",
   "execution_count": 56,
   "metadata": {},
   "outputs": [
    {
     "name": "stdout",
     "output_type": "stream",
     "text": [
      "200\n",
      "{\n",
      "  \"message\": \"List added successfully!\"\n",
      "}\n",
      "\n"
     ]
    }
   ],
   "source": [
    "import requests \n",
    "\n",
    "url = \"http://127.0.0.1:8000/api/AddTask\"\n",
    "\n",
    "# GET\n",
    "r = requests.post(url)\n",
    "print(r.status_code)\n",
    "print(r.text)\n"
   ]
  },
  {
   "cell_type": "code",
   "execution_count": 54,
   "metadata": {},
   "outputs": [
    {
     "name": "stdout",
     "output_type": "stream",
     "text": [
      "500\n",
      "{\n",
      "  \"error\": \"An error occurred while fetching the tasks.\"\n",
      "}\n",
      "\n"
     ]
    }
   ],
   "source": [
    "url = \"http://127.0.0.1:8000/api/GetTasks/1\"\n",
    "\n",
    "r = requests.get(url)\n",
    "print(r.status_code)\n",
    "print(r.text)\n"
   ]
  },
  {
   "cell_type": "code",
   "execution_count": 60,
   "metadata": {},
   "outputs": [
    {
     "name": "stdout",
     "output_type": "stream",
     "text": [
      "200\n",
      "{\n",
      "  \"message\": \"Subtask added successfully!\"\n",
      "}\n",
      "\n"
     ]
    }
   ],
   "source": [
    "import requests \n",
    "\n",
    "url = \"http://127.0.0.1:8000/api/AddSubtasks\"\n",
    "\n",
    "# GET\n",
    "r = requests.post(url)\n",
    "print(r.status_code)\n",
    "print(r.text)\n"
   ]
  },
  {
   "cell_type": "markdown",
   "metadata": {},
   "source": []
  }
 ],
 "metadata": {
  "kernelspec": {
   "display_name": "flaskenv",
   "language": "python",
   "name": "python3"
  },
  "language_info": {
   "codemirror_mode": {
    "name": "ipython",
    "version": 3
   },
   "file_extension": ".py",
   "mimetype": "text/x-python",
   "name": "python",
   "nbconvert_exporter": "python",
   "pygments_lexer": "ipython3",
   "version": "3.11.4"
  }
 },
 "nbformat": 4,
 "nbformat_minor": 2
}
