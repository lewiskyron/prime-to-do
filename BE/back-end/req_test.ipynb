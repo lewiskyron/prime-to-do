{
 "cells": [
  {
   "cell_type": "code",
   "execution_count": 47,
   "metadata": {},
   "outputs": [
    {
     "name": "stdout",
     "output_type": "stream",
     "text": [
      "200\n",
      "{\n",
      "  \"lists\": [\n",
      "    {\n",
      "      \"id\": 1,\n",
      "      \"name\": \"ddeszbds\"\n",
      "    }\n",
      "  ],\n",
      "  \"message\": \"Successfully retrieved all lists from the database.\"\n",
      "}\n",
      "\n"
     ]
    }
   ],
   "source": [
    "import requests\n",
    "\n",
    "\n",
    "url = \"http://127.0.0.1:8000/api/GetLists\"\n",
    "response = requests.get(url)\n",
    "print(response.status_code)\n",
    "print(response.text)"
   ]
  },
  {
   "cell_type": "code",
   "execution_count": 45,
   "metadata": {},
   "outputs": [
    {
     "name": "stdout",
     "output_type": "stream",
     "text": [
      "200\n",
      "{\n",
      "  \"lists\": [\n",
      "    {\n",
      "      \"id\": 1,\n",
      "      \"name\": \"ddeszbds\",\n",
      "      \"tasks\": [\n",
      "        {\n",
      "          \"completed\": false,\n",
      "          \"depth\": 0,\n",
      "          \"id\": 1,\n",
      "          \"list_id\": 1,\n",
      "          \"name\": \"fdgergr\",\n",
      "          \"parent_id\": null,\n",
      "          \"subtasks\": [\n",
      "            {\n",
      "              \"completed\": false,\n",
      "              \"depth\": 1,\n",
      "              \"id\": 3,\n",
      "              \"list_id\": 1,\n",
      "              \"name\": \"SubTask 1 for Task 1\",\n",
      "              \"parent_id\": 1,\n",
      "              \"subtasks\": [\n",
      "                {\n",
      "                  \"completed\": false,\n",
      "                  \"depth\": 2,\n",
      "                  \"id\": 4,\n",
      "                  \"list_id\": 1,\n",
      "                  \"name\": \"Sub_Subtasks 1 for Subtasks 2\",\n",
      "                  \"parent_id\": 3,\n",
      "                  \"subtasks\": []\n",
      "                }\n",
      "              ]\n",
      "            }\n",
      "          ]\n",
      "        },\n",
      "        {\n",
      "          \"completed\": false,\n",
      "          \"depth\": 0,\n",
      "          \"id\": 2,\n",
      "          \"list_id\": 1,\n",
      "          \"name\": \"adgegdf\",\n",
      "          \"parent_id\": null,\n",
      "          \"subtasks\": []\n",
      "        }\n",
      "      ]\n",
      "    }\n",
      "  ],\n",
      "  \"message\": \"Successfully retrieved all lists from the database.\"\n",
      "}\n",
      "\n"
     ]
    }
   ],
   "source": [
    "import requests\n",
    "url = \"http://127.0.0.1:8000/api/GetLists\"\n",
    "\n",
    "r = requests.get(url)\n",
    "print(r.status_code)\n",
    "print(r.text)\n",
    "\n"
   ]
  },
  {
   "cell_type": "code",
   "execution_count": 32,
   "metadata": {},
   "outputs": [],
   "source": [
    "import requests \n",
    "\n",
    "import requests\n",
    "\n",
    "url = \"http://127.0.0.1:8000/api/AddSubtasks\"\n",
    "\n",
    "# Define the JSON payloads for the three tasks\n",
    "task1_payload = {\n",
    "    \"parent_id\": 1,\n",
    "    \"name\": \"SubTask 1 for Task 1\",\n",
    "    \"list_id\": 1\n",
    "}\n",
    "\n",
    "task2_payload = {\n",
    "    \"parent_id\": 3,\n",
    "    \"name\": \"Sub_Subtasks 1 for Subtasks 2\",\n",
    "    \"list_id\": 1\n",
    "    \n",
    "}\n",
    "\n",
    "task3_payload = {\n",
    "    \"parent_id\": 2,\n",
    "    \"name\": \"Task 1 for Parent 2\",\n",
    "    \"list_id\": 1\n",
    "}\n",
    "\n",
    "task4_payload = {\n",
    "    \"parent_id\": 2,\n",
    "    \"name\": \"Task 2 for Parent 2\",\n",
    "    \"list_id\": 1\n",
    "}\n",
    "\n",
    "task5_payload = {\n",
    "    \"parent_id\": 3,\n",
    "    \"name\": \"Task 1 for Parent 3\",\n",
    "    \"list_id\": 1\n",
    "}\n",
    "\n",
    "# Send POST requests to create the tasks\n",
    "# response1 = requests.post(url, json=task1_payload)\n",
    "response2 = requests.post(url, json=task2_payload)\n",
    "# response3 = requests.post(url, json=task3_payload)\n",
    "\n",
    "# Print the responses\n",
    "# print(\"Response 1 status code:\", response1.status_code)\n",
    "# print(\"Response 1 text:\", response1.text)\n",
    "\n",
    "# print(\"Response 2 status code:\", response2.status_code)\n",
    "# print(\"Response 2 text:\", response2.text)\n",
    "\n",
    "# print(\"Response 3 status code:\", response3.status_code)\n",
    "# print(\"Response 3 text:\", response3.text)\n",
    "\n",
    "\n"
   ]
  },
  {
   "cell_type": "markdown",
   "metadata": {},
   "source": []
  },
  {
   "cell_type": "markdown",
   "metadata": {},
   "source": []
  }
 ],
 "metadata": {
  "kernelspec": {
   "display_name": "flaskenv",
   "language": "python",
   "name": "python3"
  },
  "language_info": {
   "codemirror_mode": {
    "name": "ipython",
    "version": 3
   },
   "file_extension": ".py",
   "mimetype": "text/x-python",
   "name": "python",
   "nbconvert_exporter": "python",
   "pygments_lexer": "ipython3",
   "version": "3.11.4"
  }
 },
 "nbformat": 4,
 "nbformat_minor": 2
}
